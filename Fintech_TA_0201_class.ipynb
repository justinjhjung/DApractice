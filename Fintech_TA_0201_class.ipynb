{
 "cells": [
  {
   "cell_type": "code",
   "execution_count": 14,
   "metadata": {
    "collapsed": true
   },
   "outputs": [],
   "source": [
    "import numpy as np\n",
    "from pandas import Series, DataFrame\n",
    "import pandas as pd\n",
    "from sklearn import tree\n",
    "\n",
    "# Import modules"
   ]
  },
  {
   "cell_type": "code",
   "execution_count": 15,
   "metadata": {
    "collapsed": true
   },
   "outputs": [],
   "source": [
    "df_sample = pd.read_csv('C://Users//snuist//Data//Lending_Club_Data_Subsample.csv')\n",
    "\n",
    "df_X = df_sample.iloc[:, 1:26].as_matrix()\n",
    "df_y = df_sample[['bad']].as_matrix()\n",
    "\n",
    "df_X = np.delete(df_X, [4, 6, 8, 11], axis = 1)"
   ]
  },
  {
   "cell_type": "code",
   "execution_count": 16,
   "metadata": {},
   "outputs": [
    {
     "data": {
      "text/plain": [
       "(1000, 21)"
      ]
     },
     "execution_count": 16,
     "metadata": {},
     "output_type": "execute_result"
    }
   ],
   "source": [
    "df_X.shape"
   ]
  },
  {
   "cell_type": "code",
   "execution_count": 17,
   "metadata": {
    "collapsed": true
   },
   "outputs": [],
   "source": [
    "np.random.seed(180201)\n",
    "\n",
    "[X_train, X_test] = np.split(df_X, [800], axis = 0)\n",
    "[y_train, y_test] = np.split(df_y, [800], axis = 0)"
   ]
  },
  {
   "cell_type": "code",
   "execution_count": 18,
   "metadata": {
    "collapsed": true
   },
   "outputs": [],
   "source": [
    "Ctree_1 = tree.DecisionTreeClassifier()"
   ]
  },
  {
   "cell_type": "code",
   "execution_count": 19,
   "metadata": {},
   "outputs": [
    {
     "data": {
      "text/plain": [
       "0.0"
      ]
     },
     "execution_count": 19,
     "metadata": {},
     "output_type": "execute_result"
    }
   ],
   "source": [
    "Ctree_1.fit(X_train, y_train)\n",
    "y_in_1 = Ctree_1.predict(X_train)[:, np.newaxis]\n",
    "\n",
    "MSE_in_1 = np.mean((y_train - y_in_1)**2) # In-sample MSE\n",
    "MSE_in_1"
   ]
  },
  {
   "cell_type": "code",
   "execution_count": 20,
   "metadata": {},
   "outputs": [
    {
     "data": {
      "text/plain": [
       "0.065000000000000002"
      ]
     },
     "execution_count": 20,
     "metadata": {},
     "output_type": "execute_result"
    }
   ],
   "source": [
    "Ctree_2 = tree.DecisionTreeClassifier(min_samples_leaf = 3)\n",
    "\n",
    "Ctree_2.fit(X_train, y_train)\n",
    "y_in_2 = Ctree_2.predict(X_train)[:, np.newaxis]\n",
    "\n",
    "MSE_in_2 = np.mean((y_train - y_in_2)**2) # In-sample MSE\n",
    "MSE_in_2"
   ]
  },
  {
   "cell_type": "code",
   "execution_count": 21,
   "metadata": {},
   "outputs": [
    {
     "data": {
      "text/plain": [
       "0.245"
      ]
     },
     "execution_count": 21,
     "metadata": {},
     "output_type": "execute_result"
    }
   ],
   "source": [
    "y_out_1 = Ctree_1.predict(X_test)[:, np.newaxis]\n",
    "\n",
    "MSE_out_1 = np.mean((y_test - y_out_1)**2)\n",
    "MSE_out_1"
   ]
  },
  {
   "cell_type": "code",
   "execution_count": 22,
   "metadata": {},
   "outputs": [
    {
     "data": {
      "text/plain": [
       "0.23999999999999999"
      ]
     },
     "execution_count": 22,
     "metadata": {},
     "output_type": "execute_result"
    }
   ],
   "source": [
    "y_out_2 = Ctree_2.predict(X_test)[:, np.newaxis]\n",
    "\n",
    "MSE_out_2 = np.mean((y_test - y_out_2)**2)\n",
    "MSE_out_2"
   ]
  },
  {
   "cell_type": "code",
   "execution_count": 23,
   "metadata": {},
   "outputs": [
    {
     "data": {
      "text/plain": [
       "array([ 0.164 ,  0.157 ,  0.1605,  0.15  ,  0.157 ,  0.164 ,  0.185 ,\n",
       "        0.192 ,  0.2025,  0.199 ])"
      ]
     },
     "execution_count": 23,
     "metadata": {},
     "output_type": "execute_result"
    }
   ],
   "source": [
    "maximal_depth = 10\n",
    "depth_grid = np.arange(1, maximal_depth + 1)\n",
    "\n",
    "MSE_record = np.zeros(maximal_depth)\n",
    "ii = 0 #index\n",
    "\n",
    "for dep in depth_grid:\n",
    "    Ctree = tree.DecisionTreeClassifier(max_depth = dep)\n",
    "    Ctree.fit(X_train, y_train)\n",
    "    \n",
    "    y_out = Ctree.predict(X_test) # Calculate out-of-sample y_hat\n",
    "    MSE_record[ii] = np.mean((y_test - y_out)**2) # Out-of-sample MSE\n",
    "    ii = ii + 1\n",
    "    \n",
    "MSE_record"
   ]
  },
  {
   "cell_type": "code",
   "execution_count": null,
   "metadata": {
    "collapsed": true
   },
   "outputs": [],
   "source": []
  },
  {
   "cell_type": "code",
   "execution_count": null,
   "metadata": {
    "collapsed": true
   },
   "outputs": [],
   "source": []
  }
 ],
 "metadata": {
  "kernelspec": {
   "display_name": "Python 3",
   "language": "python",
   "name": "python3"
  },
  "language_info": {
   "codemirror_mode": {
    "name": "ipython",
    "version": 3
   },
   "file_extension": ".py",
   "mimetype": "text/x-python",
   "name": "python",
   "nbconvert_exporter": "python",
   "pygments_lexer": "ipython3",
   "version": "3.6.3"
  }
 },
 "nbformat": 4,
 "nbformat_minor": 2
}

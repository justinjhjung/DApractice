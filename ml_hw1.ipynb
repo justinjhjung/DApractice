{
 "cells": [
  {
   "cell_type": "code",
   "execution_count": 33,
   "metadata": {
    "collapsed": true
   },
   "outputs": [],
   "source": [
    "import pandas as pd\n",
    "from io import StringIO\n",
    "import numpy as np"
   ]
  },
  {
   "cell_type": "code",
   "execution_count": 34,
   "metadata": {},
   "outputs": [
    {
     "name": "stdout",
     "output_type": "stream",
     "text": [
      "Class labels [1 2 3]\n"
     ]
    }
   ],
   "source": [
    "df_wine = pd.read_csv('https://archive.ics.uci.edu/'\n",
    "                      'ml/machine-learning-databases/wine/wine.data',\n",
    "                      header=None)\n",
    "\n",
    "df_wine.columns = ['Class label', 'Alcohol', 'Malic acid', 'Ash',\n",
    "                   'Alcalinity of ash', 'Magnesium', 'Total phenols',\n",
    "                   'Flavanoids', 'Nonflavanoid phenols', 'Proanthocyanins',\n",
    "                   'Color intensity', 'Hue', 'OD280/OD315 of diluted wines',\n",
    "                   'Proline']\n",
    "\n",
    "print('Class labels', np.unique(df_wine['Class label']))"
   ]
  },
  {
   "cell_type": "code",
   "execution_count": 35,
   "metadata": {
    "collapsed": true
   },
   "outputs": [],
   "source": [
    "from sklearn.model_selection import train_test_split\n",
    "\n",
    "X, y = df_wine.iloc[:, 1:].values, df_wine.iloc[:, 0].values\n",
    "\n",
    "X_train, X_test, y_train, y_test =\\\n",
    "    train_test_split(X, y, \n",
    "                     test_size=0.3, \n",
    "                     random_state=0, \n",
    "                     stratify=y)"
   ]
  },
  {
   "cell_type": "code",
   "execution_count": 36,
   "metadata": {},
   "outputs": [],
   "source": [
    "from sklearn.preprocessing import StandardScaler\n",
    "\n",
    "stdsc = StandardScaler()\n",
    "X_train_std = stdsc.fit_transform(X_train)\n",
    "X_test_std = stdsc.transform(X_test)"
   ]
  },
  {
   "cell_type": "code",
   "execution_count": 37,
   "metadata": {},
   "outputs": [
    {
     "data": {
      "text/plain": [
       "array([[ 1.24651242,  0.18001777,  0.74655667, -1.1644603 ,  0.        ,\n",
       "         0.        ,  1.15881183,  0.        ,  0.        ,  0.        ,\n",
       "         0.        ,  0.55777433,  2.50840353],\n",
       "       [-1.53740024, -0.3871954 , -0.99529746,  0.36502145, -0.05963452,\n",
       "         0.        ,  0.66816992,  0.        ,  0.        , -1.9344061 ,\n",
       "         1.23361096,  0.        , -2.23176623],\n",
       "       [ 0.13564772,  0.16862627,  0.35736288,  0.        ,  0.        ,\n",
       "         0.        , -2.43683976,  0.        ,  0.        ,  1.56313265,\n",
       "        -0.8187583 , -0.49338055,  0.        ]])"
      ]
     },
     "execution_count": 37,
     "metadata": {},
     "output_type": "execute_result"
    }
   ],
   "source": [
    "from sklearn.linear_model import LogisticRegression\n",
    "\n",
    "lr = LogisticRegression(penalty='l1', C=1.0)  # L1 regularizatoin\n",
    "lr.fit(X_train_std, y_train)\n",
    "lr.coef_"
   ]
  },
  {
   "cell_type": "code",
   "execution_count": 38,
   "metadata": {},
   "outputs": [
    {
     "data": {
      "text/plain": [
       "array([[ 1.27713853,  0.38210274,  0.8015599 , -1.30842842,  0.22782837,\n",
       "         0.23101419,  0.90234371, -0.08423823,  0.01462196, -0.0312838 ,\n",
       "         0.02796323,  0.71703048,  1.79262118],\n",
       "       [-1.45395571, -0.620303  , -1.05445248,  0.67148394, -0.29048951,\n",
       "         0.18277571,  0.51163918,  0.10789643,  0.08199321, -1.61228834,\n",
       "         0.88800662,  0.1659356 , -1.73246957],\n",
       "       [ 0.38965148,  0.4083047 ,  0.40211468,  0.26242969,  0.15288658,\n",
       "        -0.20064653, -1.38792256, -0.06305419, -0.28440345,  1.2553389 ,\n",
       "        -0.93849662, -0.83821807,  0.13754706]])"
      ]
     },
     "execution_count": 38,
     "metadata": {},
     "output_type": "execute_result"
    }
   ],
   "source": [
    "lr2 = LogisticRegression(penalty='l2', C=1.0)  # L2 regularizatoin\n",
    "lr2.fit(X_train_std, y_train)\n",
    "lr2.coef_"
   ]
  },
  {
   "cell_type": "markdown",
   "metadata": {},
   "source": [
    "## plotting L2 regularized coef "
   ]
  },
  {
   "cell_type": "code",
   "execution_count": 39,
   "metadata": {
    "collapsed": true
   },
   "outputs": [],
   "source": [
    "import matplotlib.pyplot as plt\n",
    "\n",
    "fig = plt.figure()\n",
    "ax = plt.subplot(111)\n",
    "\n",
    "## plot 색 지정\n",
    "colors = ['blue', 'green', 'red', 'cyan', \n",
    "          'magenta', 'yellow', 'black', \n",
    "          'pink', 'lightgreen', 'lightblue', \n",
    "          'gray', 'indigo', 'orange']"
   ]
  },
  {
   "cell_type": "markdown",
   "metadata": {},
   "source": [
    "### 학습되는 weights와 regularization parameter"
   ]
  },
  {
   "cell_type": "code",
   "execution_count": 40,
   "metadata": {
    "collapsed": true
   },
   "outputs": [],
   "source": [
    "weights, params = [], []\n",
    "for c in np.arange(-3., 6.):\n",
    "    lr3 = LogisticRegression(penalty='l2', C=10.**c, random_state=0)\n",
    "    lr3.fit(X_train_std, y_train)\n",
    "    weights.append(lr3.coef_[1])\n",
    "    params.append(10**c)\n",
    "\n",
    "weights = np.array(weights)"
   ]
  },
  {
   "cell_type": "code",
   "execution_count": 41,
   "metadata": {},
   "outputs": [
    {
     "data": {
      "image/png": "[encoded data removed]",
      "text/plain": [
       "<matplotlib.figure.Figure at 0xe9ddb50>"
      ]
     },
     "metadata": {},
     "output_type": "display_data"
    }
   ],
   "source": [
    "for column, color in zip(range(weights.shape[1]), colors):\n",
    "    plt.plot(params, weights[:, column],\n",
    "             label=df_wine.columns[column + 1],\n",
    "             color=color)\n",
    "plt.axhline(0, color='black', linestyle='--', linewidth=3)\n",
    "plt.xlim([10**(-5), 10**5])\n",
    "plt.ylabel('weight coefficient')\n",
    "plt.xlabel('C')\n",
    "plt.xscale('log')\n",
    "plt.legend(loc='upper left')\n",
    "ax.legend(loc='upper center', \n",
    "          bbox_to_anchor=(1.38, 1.03),\n",
    "          ncol=1, fancybox=True)\n",
    "plt.show()"
   ]
  },
  {
   "cell_type": "code",
   "execution_count": 43,
   "metadata": {},
   "outputs": [],
   "source": [
    "from sklearn.feature_selection import SelectPercentile\n",
    "\n",
    "rng = np.random.RandomState(42)\n",
    "\n",
    "noise_train = rng.normal(size=(len(X_train_std), 15))\n",
    "noise_test = rng.normal(size=(len(X_test_std), 15))\n",
    "X_train_noise = np.hstack([X_train_std, noise_train])\n",
    "X_test_noise = np.hstack([X_test_std, noise_test])"
   ]
  },
  {
   "cell_type": "markdown",
   "metadata": {},
   "source": [
    "## SelectPercentile의 숫자변화에 따른 성능비교"
   ]
  },
  {
   "cell_type": "markdown",
   "metadata": {},
   "source": [
    "## X_test_noise를 transform하는 것이 맞나?\n",
    "이거 성능 score만들어야 함. 이거 포함시켜서 for문으로 짧게 비교하자. "
   ]
  },
  {
   "cell_type": "code",
   "execution_count": 59,
   "metadata": {},
   "outputs": [
    {
     "data": {
      "image/png": "[encoded data removed]",
      "text/plain": [
       "<matplotlib.figure.Figure at 0xe572ed0>"
      ]
     },
     "metadata": {},
     "output_type": "display_data"
    },
    {
     "data": {
      "image/png": "[encoded data removed]",
      "text/plain": [
       "<matplotlib.figure.Figure at 0xe5a6610>"
      ]
     },
     "metadata": {},
     "output_type": "display_data"
    },
    {
     "data": {
      "image/png": "[encoded data removed]",
      "text/plain": [
       "<matplotlib.figure.Figure at 0xe973d90>"
      ]
     },
     "metadata": {},
     "output_type": "display_data"
    }
   ],
   "source": [
    "\n",
    "# 70%\n",
    "select = SelectPercentile(percentile=70)  # 50%의 feature만 남긴다.\n",
    "select.fit(X_train_noise, y_train)\n",
    "X_test_selected = select.transform(X_test_noise)\n",
    "\n",
    "mask = select.get_support()\n",
    "plt.matshow(mask.reshape(1, -1), cmap='gray_r')\n",
    "plt.xlabel(\"feature no\")\n",
    "\n",
    "# 50%\n",
    "select = SelectPercentile(percentile=50)  # 50%의 feature만 남긴다.\n",
    "select.fit(X_train_noise, y_train)\n",
    "X_test_selected = select.transform(X_test_noise)\n",
    "\n",
    "mask = select.get_support()\n",
    "plt.matshow(mask.reshape(1, -1), cmap='gray_r')\n",
    "plt.xlabel(\"feature no\")\n",
    "\n",
    "# 30%\n",
    "select = SelectPercentile(percentile=30)  # 50%의 feature만 남긴다.\n",
    "select.fit(X_train_noise, y_train)\n",
    "X_test_selected = select.transform(X_test_noise)\n",
    "\n",
    "mask = select.get_support()\n",
    "plt.matshow(mask.reshape(1, -1), cmap='gray_r')\n",
    "plt.xlabel(\"feature no\")\n",
    "\n",
    "plt.show()\n"
   ]
  },
  {
   "cell_type": "markdown",
   "metadata": {},
   "source": [
    "## SelectKBest를 이용한 성능 비교"
   ]
  },
  {
   "cell_type": "code",
   "execution_count": 67,
   "metadata": {},
   "outputs": [
    {
     "name": "stdout",
     "output_type": "stream",
     "text": [
      "선택된 일부 특성을 사용한 점수: 1.000\n",
      "선택된 일부 특성을 사용한 점수: 1.000\n",
      "선택된 일부 특성을 사용한 점수: 0.981\n"
     ]
    }
   ],
   "source": [
    "from sklearn.feature_selection import SelectKBest, f_classif\n",
    "for number in [20, 10, 5]:\n",
    "    selector  = SelectKBest(f_classif, k=number)\n",
    "    selector.fit(X_train_noise, y_train)\n",
    "    X_test = selector.transform(X_test_noise)\n",
    "    lr = LogisticRegression()\n",
    "    lr.fit(X_test, y_test)\n",
    "    print(\"선택된 일부 특성을 사용한 점수: {:.3f}\".format(lr.score(X_test, y_test)))\n"
   ]
  },
  {
   "cell_type": "markdown",
   "metadata": {},
   "source": [
    "## 각 모형으로 얻어진 성능 비교한 표를 작성하기 (accuracy)"
   ]
  },
  {
   "cell_type": "code",
   "execution_count": null,
   "metadata": {
    "collapsed": true
   },
   "outputs": [],
   "source": []
  }
 ],
 "metadata": {
  "kernelspec": {
   "display_name": "Python 3",
   "language": "python",
   "name": "python3"
  },
  "language_info": {
   "codemirror_mode": {
    "name": "ipython",
    "version": 3
   },
   "file_extension": ".py",
   "mimetype": "text/x-python",
   "name": "python",
   "nbconvert_exporter": "python",
   "pygments_lexer": "ipython3",
   "version": "3.6.3"
  }
 },
 "nbformat": 4,
 "nbformat_minor": 2
}

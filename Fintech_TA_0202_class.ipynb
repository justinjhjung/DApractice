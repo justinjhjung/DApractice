{
 "cells": [
  {
   "cell_type": "code",
   "execution_count": 2,
   "metadata": {
    "collapsed": true
   },
   "outputs": [],
   "source": [
    "import numpy as np\n",
    "from pandas import Series, DataFrame\n",
    "import pandas as pd\n",
    "from sklearn import tree\n",
    "\n",
    "# Import modules\n",
    "\n",
    "df_sample = pd.read_csv('Lending_Club_Data_Subsample.csv')\n",
    "\n",
    "df_X = df_sample.iloc[:, 1:26].as_matrix()\n",
    "df_y = df_sample[['bad']].as_matrix()\n",
    "\n",
    "df_X = np.delete(df_X, [4, 6, 8, 11], axis = 1)"
   ]
  },
  {
   "cell_type": "code",
   "execution_count": 3,
   "metadata": {
    "collapsed": true
   },
   "outputs": [],
   "source": [
    "[X_train, X_test] = np.split(df_X, [800], axis = 0)\n",
    "[y_train, y_test] = np.split(df_y, [800], axis = 0)"
   ]
  },
  {
   "cell_type": "code",
   "execution_count": 4,
   "metadata": {
    "collapsed": true
   },
   "outputs": [],
   "source": [
    "np.random.seed(180202)"
   ]
  },
  {
   "cell_type": "code",
   "execution_count": 7,
   "metadata": {},
   "outputs": [],
   "source": [
    "from sklearn.ensemble import AdaBoostClassifier"
   ]
  },
  {
   "cell_type": "code",
   "execution_count": 8,
   "metadata": {
    "collapsed": true
   },
   "outputs": [],
   "source": [
    "base_Ctree = tree.DecisionTreeClassifier(max_depth = 5)\n",
    "ada_tree = AdaBoostClassifier(base_estimator = base_Ctree, n_estimators = 150)"
   ]
  },
  {
   "cell_type": "code",
   "execution_count": 9,
   "metadata": {
    "collapsed": true
   },
   "outputs": [],
   "source": [
    "y_train = y_train.ravel()\n",
    "y_test = y_test.ravel()\n",
    "\n",
    "ada_tree.fit(X_train, y_train)\n",
    "y_out_ada = ada_tree.predict(X_test)"
   ]
  },
  {
   "cell_type": "code",
   "execution_count": 10,
   "metadata": {},
   "outputs": [
    {
     "data": {
      "text/plain": [
       "0.155"
      ]
     },
     "execution_count": 10,
     "metadata": {},
     "output_type": "execute_result"
    }
   ],
   "source": [
    "MSE_out_ada = np.mean((y_test - y_out_ada)**2)\n",
    "MSE_out_ada"
   ]
  },
  {
   "cell_type": "code",
   "execution_count": 11,
   "metadata": {},
   "outputs": [
    {
     "data": {
      "text/plain": [
       "0.16"
      ]
     },
     "execution_count": 11,
     "metadata": {},
     "output_type": "execute_result"
    }
   ],
   "source": [
    "from sklearn.ensemble import BaggingClassifier\n",
    "\n",
    "bag_tree = BaggingClassifier(base_estimator = base_Ctree)\n",
    "bag_tree.fit(X_train, y_train)\n",
    "y_out_bag = bag_tree.predict(X_test)\n",
    "\n",
    "MSE_out_bag = np.mean((y_test - y_out_bag)**2)\n",
    "MSE_out_bag"
   ]
  },
  {
   "cell_type": "code",
   "execution_count": null,
   "metadata": {
    "collapsed": true
   },
   "outputs": [],
   "source": []
  }
 ],
 "metadata": {
  "kernelspec": {
   "display_name": "Python 3",
   "language": "python",
   "name": "python3"
  },
  "language_info": {
   "codemirror_mode": {
    "name": "ipython",
    "version": 3
   },
   "file_extension": ".py",
   "mimetype": "text/x-python",
   "name": "python",
   "nbconvert_exporter": "python",
   "pygments_lexer": "ipython3",
   "version": "3.6.1"
  }
 },
 "nbformat": 4,
 "nbformat_minor": 2
}

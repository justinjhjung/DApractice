{
 "cells": [
  {
   "cell_type": "code",
   "execution_count": 14,
   "metadata": {
    "collapsed": true
   },
   "outputs": [],
   "source": [
    "import numpy as np\n",
    "from pandas import Series, DataFrame\n",
    "import pandas as pd\n",
    "import matplotlib.pyplot as plt\n",
    "from sklearn import linear_model"
   ]
  },
  {
   "cell_type": "code",
   "execution_count": 15,
   "metadata": {},
   "outputs": [],
   "source": [
    "np.random.seed(180205)\n",
    "\n",
    "cov_mat = np.array([[1, 0.8], [0.8, 1]])\n",
    "mean_vec = np.array([0, 0])\n",
    "sample_n = 2000 #sample size\n",
    "\n",
    "X_draw = np.random.multivariate_normal(mean_vec, cov_mat, sample_n)"
   ]
  },
  {
   "cell_type": "code",
   "execution_count": 16,
   "metadata": {
    "scrolled": true
   },
   "outputs": [
    {
     "data": {
      "image/png": "[encoded data removed]",
      "text/plain": [
       "<matplotlib.figure.Figure at 0x299a8bef160>"
      ]
     },
     "metadata": {},
     "output_type": "display_data"
    }
   ],
   "source": [
    "X_draw = X_draw - np.mean(X_draw, axis = 0)\n",
    "\n",
    "plt.scatter(X_draw[:, 0], X_draw[:, 1], s = 2, c = 'blue')\n",
    "#plt.axis('equal')\n",
    "plt.grid(alpha = 0.5)\n",
    "plt.show()"
   ]
  },
  {
   "cell_type": "code",
   "execution_count": 17,
   "metadata": {
    "collapsed": true
   },
   "outputs": [],
   "source": [
    "b = np.array([[1, 1]]).T\n",
    "e = np.random.randn(sample_n, 1)\n",
    "\n",
    "y = np.dot(X_draw, b) + e"
   ]
  },
  {
   "cell_type": "code",
   "execution_count": 18,
   "metadata": {},
   "outputs": [
    {
     "name": "stdout",
     "output_type": "stream",
     "text": [
      "                            OLS Regression Results                            \n",
      "==============================================================================\n",
      "Dep. Variable:                      y   R-squared:                       0.784\n",
      "Model:                            OLS   Adj. R-squared:                  0.783\n",
      "Method:                 Least Squares   F-statistic:                     3615.\n",
      "Date:                Mon, 05 Feb 2018   Prob (F-statistic):               0.00\n",
      "Time:                        17:12:20   Log-Likelihood:                -2845.3\n",
      "No. Observations:                2000   AIC:                             5695.\n",
      "Df Residuals:                    1998   BIC:                             5706.\n",
      "Df Model:                           2                                         \n",
      "Covariance Type:            nonrobust                                         \n",
      "==============================================================================\n",
      "                 coef    std err          t      P>|t|      [0.025      0.975]\n",
      "------------------------------------------------------------------------------\n",
      "x1             0.9793      0.038     25.895      0.000       0.905       1.053\n",
      "x2             1.0185      0.038     26.943      0.000       0.944       1.093\n",
      "==============================================================================\n",
      "Omnibus:                        5.033   Durbin-Watson:                   2.031\n",
      "Prob(Omnibus):                  0.081   Jarque-Bera (JB):                4.950\n",
      "Skew:                          -0.118   Prob(JB):                       0.0842\n",
      "Kurtosis:                       3.061   Cond. No.                         3.06\n",
      "==============================================================================\n",
      "\n",
      "Warnings:\n",
      "[1] Standard Errors assume that the covariance matrix of the errors is correctly specified.\n"
     ]
    }
   ],
   "source": [
    "import statsmodels.api as sm\n",
    "\n",
    "model = sm.OLS(y, X_draw)\n",
    "results = model.fit()\n",
    "print(results.summary())"
   ]
  },
  {
   "cell_type": "code",
   "execution_count": 19,
   "metadata": {},
   "outputs": [
    {
     "data": {
      "text/plain": [
       "((2000, 2000), (2,), (2, 2))"
      ]
     },
     "execution_count": 19,
     "metadata": {},
     "output_type": "execute_result"
    }
   ],
   "source": [
    "U, s, V = np.linalg.svd(X_draw, full_matrices=True)\n",
    "U.shape, s.shape, V.shape "
   ]
  },
  {
   "cell_type": "code",
   "execution_count": 20,
   "metadata": {},
   "outputs": [
    {
     "data": {
      "text/plain": [
       "array([[ 0.7069261 ,  0.70728741],\n",
       "       [ 0.70728741, -0.7069261 ]])"
      ]
     },
     "execution_count": 20,
     "metadata": {},
     "output_type": "execute_result"
    }
   ],
   "source": [
    "V"
   ]
  },
  {
   "cell_type": "code",
   "execution_count": 21,
   "metadata": {},
   "outputs": [
    {
     "data": {
      "text/plain": [
       "(2000, 2)"
      ]
     },
     "execution_count": 21,
     "metadata": {},
     "output_type": "execute_result"
    }
   ],
   "source": [
    "S = np.zeros((sample_n, 2))\n",
    "S[:2, :2] = np.diag(s)\n",
    "\n",
    "mat_C = U @ S @ V # @ = matrix multiplication operator\n",
    "mat_C.shape"
   ]
  },
  {
   "cell_type": "code",
   "execution_count": 22,
   "metadata": {},
   "outputs": [
    {
     "data": {
      "text/plain": [
       "array([[-0.58423655,  0.17253359],\n",
       "       [ 0.70854001,  0.65626078],\n",
       "       [ 1.44859906,  1.84034171],\n",
       "       ..., \n",
       "       [-0.80526546, -1.30774406],\n",
       "       [ 0.0752482 ,  1.56600821],\n",
       "       [-0.24105479, -0.34734535]])"
      ]
     },
     "execution_count": 22,
     "metadata": {},
     "output_type": "execute_result"
    }
   ],
   "source": [
    "mat_C.view()"
   ]
  },
  {
   "cell_type": "code",
   "execution_count": 23,
   "metadata": {},
   "outputs": [
    {
     "data": {
      "text/plain": [
       "array([[-0.58423655,  0.17253359],\n",
       "       [ 0.70854001,  0.65626078],\n",
       "       [ 1.44859906,  1.84034171],\n",
       "       ..., \n",
       "       [-0.80526546, -1.30774406],\n",
       "       [ 0.0752482 ,  1.56600821],\n",
       "       [-0.24105479, -0.34734535]])"
      ]
     },
     "execution_count": 23,
     "metadata": {},
     "output_type": "execute_result"
    }
   ],
   "source": [
    "X_draw.view()"
   ]
  },
  {
   "cell_type": "code",
   "execution_count": 24,
   "metadata": {
    "collapsed": true
   },
   "outputs": [],
   "source": [
    "Z_mat = np.dot(X_draw, V.T)\n",
    "Z_1 = Z_mat[:, 0:1]"
   ]
  },
  {
   "cell_type": "code",
   "execution_count": 25,
   "metadata": {},
   "outputs": [
    {
     "name": "stdout",
     "output_type": "stream",
     "text": [
      "                            OLS Regression Results                            \n",
      "==============================================================================\n",
      "Dep. Variable:                      y   R-squared:                       0.783\n",
      "Model:                            OLS   Adj. R-squared:                  0.783\n",
      "Method:                 Least Squares   F-statistic:                     7233.\n",
      "Date:                Mon, 05 Feb 2018   Prob (F-statistic):               0.00\n",
      "Time:                        17:12:20   Log-Likelihood:                -2845.4\n",
      "No. Observations:                2000   AIC:                             5693.\n",
      "Df Residuals:                    1999   BIC:                             5698.\n",
      "Df Model:                           1                                         \n",
      "Covariance Type:            nonrobust                                         \n",
      "==============================================================================\n",
      "                 coef    std err          t      P>|t|      [0.025      0.975]\n",
      "------------------------------------------------------------------------------\n",
      "x1             1.4126      0.017     85.047      0.000       1.380       1.445\n",
      "==============================================================================\n",
      "Omnibus:                        5.012   Durbin-Watson:                   2.031\n",
      "Prob(Omnibus):                  0.082   Jarque-Bera (JB):                4.928\n",
      "Skew:                          -0.117   Prob(JB):                       0.0851\n",
      "Kurtosis:                       3.063   Cond. No.                         1.00\n",
      "==============================================================================\n",
      "\n",
      "Warnings:\n",
      "[1] Standard Errors assume that the covariance matrix of the errors is correctly specified.\n"
     ]
    }
   ],
   "source": [
    "model2 = sm.OLS(y, Z_1)\n",
    "results2 = model2.fit()\n",
    "print(results2.summary())"
   ]
  },
  {
   "cell_type": "code",
   "execution_count": 26,
   "metadata": {},
   "outputs": [
    {
     "data": {
      "image/png": "[encoded data removed]",
      "text/plain": [
       "<matplotlib.figure.Figure at 0x299a8cc5128>"
      ]
     },
     "metadata": {},
     "output_type": "display_data"
    }
   ],
   "source": [
    "plt.scatter(X_draw[:, 0], X_draw[:, 1], s = 2, c = 'blue')\n",
    "#plt.axis('equal')\n",
    "plt.grid(alpha = 0.5)\n",
    "\n",
    "x_base = np.linspace(-3, 3, 10**3)\n",
    "plt.plot(x_base, (V[0, 1]/V[0, 0]) * x_base, c = 'red')\n",
    "plt.legend(['Principal Direction'])\n",
    "plt.show()"
   ]
  },
  {
   "cell_type": "code",
   "execution_count": 27,
   "metadata": {
    "scrolled": true
   },
   "outputs": [
    {
     "data": {
      "text/plain": [
       "array([ 60.44589527,  19.75820001])"
      ]
     },
     "execution_count": 27,
     "metadata": {},
     "output_type": "execute_result"
    }
   ],
   "source": [
    "s"
   ]
  }
 ],
 "metadata": {
  "kernelspec": {
   "display_name": "Python 3",
   "language": "python",
   "name": "python3"
  },
  "language_info": {
   "codemirror_mode": {
    "name": "ipython",
    "version": 3
   },
   "file_extension": ".py",
   "mimetype": "text/x-python",
   "name": "python",
   "nbconvert_exporter": "python",
   "pygments_lexer": "ipython3",
   "version": "3.6.1"
  }
 },
 "nbformat": 4,
 "nbformat_minor": 2
}

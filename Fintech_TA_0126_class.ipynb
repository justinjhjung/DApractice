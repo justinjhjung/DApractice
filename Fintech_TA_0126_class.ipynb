{
 "cells": [
  {
   "cell_type": "code",
   "execution_count": 1,
   "metadata": {
    "collapsed": true
   },
   "outputs": [],
   "source": [
    "import numpy as np\n",
    "from pandas import Series, DataFrame\n",
    "import pandas as pd\n",
    "import matplotlib.pyplot as plt\n",
    "from sklearn import linear_model\n",
    "import statsmodels.formula.api as smf\n",
    "\n",
    "# Import modules"
   ]
  },
  {
   "cell_type": "code",
   "execution_count": 2,
   "metadata": {},
   "outputs": [
    {
     "name": "stdout",
     "output_type": "stream",
     "text": [
      "   bad  purpose_1  purpose_2  purpose_3  purpose_4  purpose_5  term_1  term_2  \\\n",
      "0    0          1          0          0          0          0       1       0   \n",
      "1    0          0          1          0          0          0       1       0   \n",
      "2    0          1          0          0          0          0       1       0   \n",
      "3    0          1          0          0          0          0       1       0   \n",
      "4    0          1          0          0          0          0       1       0   \n",
      "\n",
      "   verification_status_1  verification_status_2    ...            dti  \\\n",
      "0                      1                      0    ...      11.910000   \n",
      "1                      0                      0    ...      11.140000   \n",
      "2                      0                      1    ...      12.990000   \n",
      "3                      0                      0    ...      30.620001   \n",
      "4                      1                      0    ...       6.830000   \n",
      "\n",
      "   delinq_2yrs  inq_last_6mths  open_acc  pub_rec  total_acc  \\\n",
      "0            0               3        14        0         38   \n",
      "1            0               1         9        0         13   \n",
      "2            1               4         8        0         35   \n",
      "3            0               0        14        0         37   \n",
      "4            0               0         6        0          7   \n",
      "\n",
      "   pub_rec_bankruptcies  emp_length        pop      urate  \n",
      "0                     0          10    1437265   8.600000  \n",
      "1                     0           3   36294256  12.400000  \n",
      "2                     0           1   38014872   8.000000  \n",
      "3                     0           1    4747511   8.332258  \n",
      "4                     0           0  102868224   8.000000  \n",
      "\n",
      "[5 rows x 26 columns]\n"
     ]
    }
   ],
   "source": [
    "df_sample = pd.read_csv('C://Users//snuist//Data//Lending_Club_Data_Subsample.csv')\n",
    "print(df_sample.head())"
   ]
  },
  {
   "cell_type": "code",
   "execution_count": 3,
   "metadata": {
    "collapsed": true
   },
   "outputs": [],
   "source": [
    "mdl_OLS = linear_model.LinearRegression()"
   ]
  },
  {
   "cell_type": "code",
   "execution_count": 5,
   "metadata": {
    "collapsed": true
   },
   "outputs": [],
   "source": [
    "smf_model = smf.ols(formula = 'bad ~ loan_amnt + installment + annual_inc + dti + delinq_2yrs', data = df_sample)"
   ]
  },
  {
   "cell_type": "code",
   "execution_count": 6,
   "metadata": {},
   "outputs": [],
   "source": [
    "results = smf_model.fit()"
   ]
  },
  {
   "cell_type": "code",
   "execution_count": 7,
   "metadata": {},
   "outputs": [
    {
     "data": {
      "text/plain": [
       "statsmodels.regression.linear_model.RegressionResultsWrapper"
      ]
     },
     "execution_count": 7,
     "metadata": {},
     "output_type": "execute_result"
    }
   ],
   "source": [
    "type(results)"
   ]
  },
  {
   "cell_type": "code",
   "execution_count": 8,
   "metadata": {
    "scrolled": true
   },
   "outputs": [
    {
     "data": {
      "text/html": [
       "<table class=\"simpletable\">\n",
       "<caption>OLS Regression Results</caption>\n",
       "<tr>\n",
       "  <th>Dep. Variable:</th>           <td>bad</td>       <th>  R-squared:         </th> <td>   0.008</td>\n",
       "</tr>\n",
       "<tr>\n",
       "  <th>Model:</th>                   <td>OLS</td>       <th>  Adj. R-squared:    </th> <td>   0.003</td>\n",
       "</tr>\n",
       "<tr>\n",
       "  <th>Method:</th>             <td>Least Squares</td>  <th>  F-statistic:       </th> <td>   1.601</td>\n",
       "</tr>\n",
       "<tr>\n",
       "  <th>Date:</th>             <td>Mon, 05 Feb 2018</td> <th>  Prob (F-statistic):</th>  <td> 0.157</td> \n",
       "</tr>\n",
       "<tr>\n",
       "  <th>Time:</th>                 <td>15:44:32</td>     <th>  Log-Likelihood:    </th> <td> -331.67</td>\n",
       "</tr>\n",
       "<tr>\n",
       "  <th>No. Observations:</th>      <td>  1000</td>      <th>  AIC:               </th> <td>   675.3</td>\n",
       "</tr>\n",
       "<tr>\n",
       "  <th>Df Residuals:</th>          <td>   994</td>      <th>  BIC:               </th> <td>   704.8</td>\n",
       "</tr>\n",
       "<tr>\n",
       "  <th>Df Model:</th>              <td>     5</td>      <th>                     </th>     <td> </td>   \n",
       "</tr>\n",
       "<tr>\n",
       "  <th>Covariance Type:</th>      <td>nonrobust</td>    <th>                     </th>     <td> </td>   \n",
       "</tr>\n",
       "</table>\n",
       "<table class=\"simpletable\">\n",
       "<tr>\n",
       "       <td></td>          <th>coef</th>     <th>std err</th>      <th>t</th>      <th>P>|t|</th>  <th>[0.025</th>    <th>0.975]</th>  \n",
       "</tr>\n",
       "<tr>\n",
       "  <th>Intercept</th>   <td>    0.0955</td> <td>    0.033</td> <td>    2.895</td> <td> 0.004</td> <td>    0.031</td> <td>    0.160</td>\n",
       "</tr>\n",
       "<tr>\n",
       "  <th>loan_amnt</th>   <td> 2.435e-06</td> <td> 8.67e-06</td> <td>    0.281</td> <td> 0.779</td> <td>-1.46e-05</td> <td> 1.95e-05</td>\n",
       "</tr>\n",
       "<tr>\n",
       "  <th>installment</th> <td>-5.853e-05</td> <td>    0.000</td> <td>   -0.230</td> <td> 0.818</td> <td>   -0.001</td> <td>    0.000</td>\n",
       "</tr>\n",
       "<tr>\n",
       "  <th>annual_inc</th>  <td>-2.383e-07</td> <td> 2.23e-07</td> <td>   -1.069</td> <td> 0.285</td> <td>-6.76e-07</td> <td> 1.99e-07</td>\n",
       "</tr>\n",
       "<tr>\n",
       "  <th>dti</th>         <td>    0.0032</td> <td>    0.001</td> <td>    2.194</td> <td> 0.028</td> <td>    0.000</td> <td>    0.006</td>\n",
       "</tr>\n",
       "<tr>\n",
       "  <th>delinq_2yrs</th> <td>   -0.0108</td> <td>    0.020</td> <td>   -0.533</td> <td> 0.594</td> <td>   -0.050</td> <td>    0.029</td>\n",
       "</tr>\n",
       "</table>\n",
       "<table class=\"simpletable\">\n",
       "<tr>\n",
       "  <th>Omnibus:</th>       <td>394.791</td> <th>  Durbin-Watson:     </th> <td>   1.989</td> \n",
       "</tr>\n",
       "<tr>\n",
       "  <th>Prob(Omnibus):</th> <td> 0.000</td>  <th>  Jarque-Bera (JB):  </th> <td>1068.186</td> \n",
       "</tr>\n",
       "<tr>\n",
       "  <th>Skew:</th>          <td> 2.148</td>  <th>  Prob(JB):          </th> <td>1.11e-232</td>\n",
       "</tr>\n",
       "<tr>\n",
       "  <th>Kurtosis:</th>      <td> 5.680</td>  <th>  Cond. No.          </th> <td>2.69e+05</td> \n",
       "</tr>\n",
       "</table>"
      ],
      "text/plain": [
       "<class 'statsmodels.iolib.summary.Summary'>\n",
       "\"\"\"\n",
       "                            OLS Regression Results                            \n",
       "==============================================================================\n",
       "Dep. Variable:                    bad   R-squared:                       0.008\n",
       "Model:                            OLS   Adj. R-squared:                  0.003\n",
       "Method:                 Least Squares   F-statistic:                     1.601\n",
       "Date:                Mon, 05 Feb 2018   Prob (F-statistic):              0.157\n",
       "Time:                        15:44:32   Log-Likelihood:                -331.67\n",
       "No. Observations:                1000   AIC:                             675.3\n",
       "Df Residuals:                     994   BIC:                             704.8\n",
       "Df Model:                           5                                         \n",
       "Covariance Type:            nonrobust                                         \n",
       "===============================================================================\n",
       "                  coef    std err          t      P>|t|      [0.025      0.975]\n",
       "-------------------------------------------------------------------------------\n",
       "Intercept       0.0955      0.033      2.895      0.004       0.031       0.160\n",
       "loan_amnt    2.435e-06   8.67e-06      0.281      0.779   -1.46e-05    1.95e-05\n",
       "installment -5.853e-05      0.000     -0.230      0.818      -0.001       0.000\n",
       "annual_inc  -2.383e-07   2.23e-07     -1.069      0.285   -6.76e-07    1.99e-07\n",
       "dti             0.0032      0.001      2.194      0.028       0.000       0.006\n",
       "delinq_2yrs    -0.0108      0.020     -0.533      0.594      -0.050       0.029\n",
       "==============================================================================\n",
       "Omnibus:                      394.791   Durbin-Watson:                   1.989\n",
       "Prob(Omnibus):                  0.000   Jarque-Bera (JB):             1068.186\n",
       "Skew:                           2.148   Prob(JB):                    1.11e-232\n",
       "Kurtosis:                       5.680   Cond. No.                     2.69e+05\n",
       "==============================================================================\n",
       "\n",
       "Warnings:\n",
       "[1] Standard Errors assume that the covariance matrix of the errors is correctly specified.\n",
       "[2] The condition number is large, 2.69e+05. This might indicate that there are\n",
       "strong multicollinearity or other numerical problems.\n",
       "\"\"\""
      ]
     },
     "execution_count": 8,
     "metadata": {},
     "output_type": "execute_result"
    }
   ],
   "source": [
    "results.summary()"
   ]
  },
  {
   "cell_type": "code",
   "execution_count": 10,
   "metadata": {
    "collapsed": true
   },
   "outputs": [],
   "source": [
    "mdl_lasso = linear_model.Lasso(alpha = 1)"
   ]
  },
  {
   "cell_type": "code",
   "execution_count": 11,
   "metadata": {
    "collapsed": true
   },
   "outputs": [],
   "source": [
    "X_sample = df_sample[['loan_amnt', 'installment', 'annual_inc', 'dti', 'delinq_2yrs']].as_matrix()\n",
    "y_sample = df_sample[['bad']].as_matrix()"
   ]
  },
  {
   "cell_type": "code",
   "execution_count": 12,
   "metadata": {},
   "outputs": [
    {
     "data": {
      "text/plain": [
       "numpy.ndarray"
      ]
     },
     "execution_count": 12,
     "metadata": {},
     "output_type": "execute_result"
    }
   ],
   "source": [
    "type(X_sample)"
   ]
  },
  {
   "cell_type": "code",
   "execution_count": 13,
   "metadata": {},
   "outputs": [
    {
     "data": {
      "text/plain": [
       "(1000, 5)"
      ]
     },
     "execution_count": 13,
     "metadata": {},
     "output_type": "execute_result"
    }
   ],
   "source": [
    "X_sample.shape"
   ]
  },
  {
   "cell_type": "code",
   "execution_count": 14,
   "metadata": {},
   "outputs": [
    {
     "data": {
      "text/plain": [
       "array([[  2.43466675e-06,  -5.85305498e-05,  -2.38315581e-07,\n",
       "          3.21355963e-03,  -1.07778479e-02]])"
      ]
     },
     "execution_count": 14,
     "metadata": {},
     "output_type": "execute_result"
    }
   ],
   "source": [
    "mdl_OLS.fit(X_sample, y_sample)\n",
    "mdl_OLS.coef_"
   ]
  },
  {
   "cell_type": "code",
   "execution_count": 15,
   "metadata": {},
   "outputs": [
    {
     "data": {
      "text/plain": [
       "array([  8.70752817e-07,   0.00000000e+00,  -3.59689347e-07,\n",
       "         0.00000000e+00,  -0.00000000e+00])"
      ]
     },
     "execution_count": 15,
     "metadata": {},
     "output_type": "execute_result"
    }
   ],
   "source": [
    "mdl_lasso.fit(X_sample, y_sample)\n",
    "mdl_lasso.coef_"
   ]
  },
  {
   "cell_type": "code",
   "execution_count": null,
   "metadata": {
    "collapsed": true
   },
   "outputs": [],
   "source": []
  }
 ],
 "metadata": {
  "kernelspec": {
   "display_name": "Python 3",
   "language": "python",
   "name": "python3"
  },
  "language_info": {
   "codemirror_mode": {
    "name": "ipython",
    "version": 3
   },
   "file_extension": ".py",
   "mimetype": "text/x-python",
   "name": "python",
   "nbconvert_exporter": "python",
   "pygments_lexer": "ipython3",
   "version": "3.6.3"
  }
 },
 "nbformat": 4,
 "nbformat_minor": 2
}

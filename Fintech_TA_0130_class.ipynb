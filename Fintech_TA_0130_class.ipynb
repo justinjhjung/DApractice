{
 "cells": [
  {
   "cell_type": "code",
   "execution_count": 2,
   "metadata": {
    "collapsed": true
   },
   "outputs": [],
   "source": [
    "import numpy as np\n",
    "from pandas import Series, DataFrame\n",
    "import pandas as pd\n",
    "import matplotlib.pyplot as plt\n",
    "\n",
    "# Import modules"
   ]
  },
  {
   "cell_type": "code",
   "execution_count": 3,
   "metadata": {},
   "outputs": [
    {
     "name": "stdout",
     "output_type": "stream",
     "text": [
      "   bad  purpose_1  purpose_2  purpose_3  purpose_4  purpose_5  term_1  term_2  \\\n",
      "0    0          1          0          0          0          0       1       0   \n",
      "1    0          0          1          0          0          0       1       0   \n",
      "2    0          1          0          0          0          0       1       0   \n",
      "3    0          1          0          0          0          0       1       0   \n",
      "4    0          1          0          0          0          0       1       0   \n",
      "\n",
      "   verification_status_1  verification_status_2    ...            dti  \\\n",
      "0                      1                      0    ...      11.910000   \n",
      "1                      0                      0    ...      11.140000   \n",
      "2                      0                      1    ...      12.990000   \n",
      "3                      0                      0    ...      30.620001   \n",
      "4                      1                      0    ...       6.830000   \n",
      "\n",
      "   delinq_2yrs  inq_last_6mths  open_acc  pub_rec  total_acc  \\\n",
      "0            0               3        14        0         38   \n",
      "1            0               1         9        0         13   \n",
      "2            1               4         8        0         35   \n",
      "3            0               0        14        0         37   \n",
      "4            0               0         6        0          7   \n",
      "\n",
      "   pub_rec_bankruptcies  emp_length        pop      urate  \n",
      "0                     0          10    1437265   8.600000  \n",
      "1                     0           3   36294256  12.400000  \n",
      "2                     0           1   38014872   8.000000  \n",
      "3                     0           1    4747511   8.332258  \n",
      "4                     0           0  102868224   8.000000  \n",
      "\n",
      "[5 rows x 26 columns]\n"
     ]
    }
   ],
   "source": [
    "df_sample = pd.read_csv('C://Users//snuist//Data//Lending_Club_Data_Subsample.csv')\n",
    "print(df_sample.head())"
   ]
  },
  {
   "cell_type": "code",
   "execution_count": 4,
   "metadata": {},
   "outputs": [
    {
     "data": {
      "text/plain": [
       "['bad',\n",
       " 'purpose_1',\n",
       " 'purpose_2',\n",
       " 'purpose_3',\n",
       " 'purpose_4',\n",
       " 'purpose_5',\n",
       " 'term_1',\n",
       " 'term_2',\n",
       " 'verification_status_1',\n",
       " 'verification_status_2',\n",
       " 'verification_status_3',\n",
       " 'initial_list_status_1',\n",
       " 'initial_list_status_2',\n",
       " 'loan_amnt',\n",
       " 'installment',\n",
       " 'annual_inc',\n",
       " 'dti',\n",
       " 'delinq_2yrs',\n",
       " 'inq_last_6mths',\n",
       " 'open_acc',\n",
       " 'pub_rec',\n",
       " 'total_acc',\n",
       " 'pub_rec_bankruptcies',\n",
       " 'emp_length',\n",
       " 'pop',\n",
       " 'urate']"
      ]
     },
     "execution_count": 4,
     "metadata": {},
     "output_type": "execute_result"
    }
   ],
   "source": [
    "list(df_sample)"
   ]
  },
  {
   "cell_type": "code",
   "execution_count": 23,
   "metadata": {
    "collapsed": true
   },
   "outputs": [],
   "source": [
    "df_X = df_sample.iloc[:, 1:26].as_matrix()\n",
    "df_y = df_sample[['bad']].as_matrix()\n",
    "\n",
    "df_X = np.delete(df_X, [4, 6, 8, 11], axis = 1)\n",
    "#Exclude some variables to prevent perfect multicolinearity"
   ]
  },
  {
   "cell_type": "code",
   "execution_count": 24,
   "metadata": {
    "collapsed": true
   },
   "outputs": [],
   "source": [
    "[X_train, X_test] = np.split(df_X, [800], axis = 0)"
   ]
  },
  {
   "cell_type": "code",
   "execution_count": 25,
   "metadata": {},
   "outputs": [
    {
     "data": {
      "text/plain": [
       "(800, 21)"
      ]
     },
     "execution_count": 25,
     "metadata": {},
     "output_type": "execute_result"
    }
   ],
   "source": [
    "X_train.shape"
   ]
  },
  {
   "cell_type": "code",
   "execution_count": 26,
   "metadata": {},
   "outputs": [
    {
     "data": {
      "text/plain": [
       "(200, 21)"
      ]
     },
     "execution_count": 26,
     "metadata": {},
     "output_type": "execute_result"
    }
   ],
   "source": [
    "X_test.shape"
   ]
  },
  {
   "cell_type": "code",
   "execution_count": 27,
   "metadata": {},
   "outputs": [
    {
     "data": {
      "text/plain": [
       "(800, 1)"
      ]
     },
     "execution_count": 27,
     "metadata": {},
     "output_type": "execute_result"
    }
   ],
   "source": [
    "[y_train, y_test] = np.split(df_y, [800], axis = 0)\n",
    "y_train.shape"
   ]
  },
  {
   "cell_type": "code",
   "execution_count": 28,
   "metadata": {},
   "outputs": [
    {
     "data": {
      "text/plain": [
       "array([[ -4.86214098e-02,  -1.23258977e-02,  -8.51268142e-02,\n",
       "          7.75283996e-01,   7.38612750e-03,  -4.07718445e-02,\n",
       "          3.12913579e-02,   3.06045379e-02,   9.74744205e-06,\n",
       "         -2.83940208e-04,  -2.56287361e-07,   1.69647659e-03,\n",
       "         -3.22204404e-03,   2.20679767e-02,   1.04964671e-03,\n",
       "         -1.29939896e-01,  -9.12059323e-05,   1.94849379e-01,\n",
       "         -1.85217913e-03,   7.10182052e-11,   2.27926607e-03]])"
      ]
     },
     "execution_count": 28,
     "metadata": {},
     "output_type": "execute_result"
    }
   ],
   "source": [
    "mdl_OLS = linear_model.LinearRegression()\n",
    "mdl_OLS.fit(X_train, y_train)\n",
    "mdl_OLS.coef_"
   ]
  },
  {
   "cell_type": "code",
   "execution_count": 29,
   "metadata": {},
   "outputs": [
    {
     "data": {
      "text/plain": [
       "array([ -3.63497945e-02,  -0.00000000e+00,  -6.85218763e-02,\n",
       "         0.00000000e+00,   0.00000000e+00,  -3.60476628e-02,\n",
       "         2.62251536e-02,   2.01470687e-02,   8.37870073e-06,\n",
       "        -2.50765146e-04,  -2.23347202e-07,   1.78194272e-03,\n",
       "        -2.92735535e-03,   2.39529579e-02,   6.42417903e-04,\n",
       "        -1.77160430e-02,   1.46132782e-04,   5.67137194e-02,\n",
       "        -1.80729516e-03,   7.18555884e-11,   2.65824594e-03])"
      ]
     },
     "execution_count": 29,
     "metadata": {},
     "output_type": "execute_result"
    }
   ],
   "source": [
    "mdl_Lasso = linear_model.Lasso(alpha = 10**(-3))\n",
    "mdl_Lasso.fit(X_train, y_train)\n",
    "mdl_Lasso.coef_"
   ]
  },
  {
   "cell_type": "code",
   "execution_count": 30,
   "metadata": {},
   "outputs": [
    {
     "data": {
      "text/plain": [
       "0.10682318582011313"
      ]
     },
     "execution_count": 30,
     "metadata": {},
     "output_type": "execute_result"
    }
   ],
   "source": [
    "y_in_OLS = mdl_OLS.predict(X_train)\n",
    "np.mean((y_train - y_in_OLS)**2) # In-sample fit of OLS (MSE)"
   ]
  },
  {
   "cell_type": "code",
   "execution_count": 31,
   "metadata": {},
   "outputs": [
    {
     "data": {
      "text/plain": [
       "0.11403042285779001"
      ]
     },
     "execution_count": 31,
     "metadata": {},
     "output_type": "execute_result"
    }
   ],
   "source": [
    "y_in_Lasso = mdl_Lasso.predict(X_train)[:, np.newaxis]\n",
    "np.mean((y_train - y_in_Lasso)**2) # In-sample fit of Lasso (MSE)"
   ]
  },
  {
   "cell_type": "code",
   "execution_count": 32,
   "metadata": {},
   "outputs": [
    {
     "data": {
      "text/plain": [
       "0.1254510778341712"
      ]
     },
     "execution_count": 32,
     "metadata": {},
     "output_type": "execute_result"
    }
   ],
   "source": [
    "y_out_OLS = mdl_OLS.predict(X_test)\n",
    "np.mean((y_test - y_out_OLS)**2) # Out-of-sample fit of OLS (MSE)"
   ]
  },
  {
   "cell_type": "code",
   "execution_count": 33,
   "metadata": {},
   "outputs": [
    {
     "data": {
      "text/plain": [
       "0.12451793198427577"
      ]
     },
     "execution_count": 33,
     "metadata": {},
     "output_type": "execute_result"
    }
   ],
   "source": [
    "y_out_Lasso = mdl_Lasso.predict(X_test)[:, np.newaxis]\n",
    "np.mean((y_test - y_out_Lasso)**2) # Out-of-sample fit of Lasso (MSE)\n",
    "\n",
    "# cf.) Less MSE is better"
   ]
  },
  {
   "cell_type": "code",
   "execution_count": 34,
   "metadata": {},
   "outputs": [
    {
     "name": "stdout",
     "output_type": "stream",
     "text": [
      "[[1]\n",
      " [2]\n",
      " [3]\n",
      " [4]] (4, 1)\n",
      "\n",
      "[0 1 0 1] (4,)\n",
      "\n",
      "[[0]\n",
      " [1]\n",
      " [0]\n",
      " [1]] (4, 1)\n",
      "\n",
      "(v1 - v2) = \n",
      " [[1 0 1 0]\n",
      " [2 1 2 1]\n",
      " [3 2 3 2]\n",
      " [4 3 4 3]]\n",
      "\n",
      "(v1 - v3) = \n",
      " [[1]\n",
      " [1]\n",
      " [3]\n",
      " [3]]\n",
      "\n"
     ]
    }
   ],
   "source": [
    "# Why we have to use [:, np.newaxis]? Consider the following example.\n",
    "\n",
    "v1 = np.array([[1, 2, 3, 4]]).T\n",
    "v2 = np.array([0, 1, 0, 1]).T\n",
    "v3 = v2[np.newaxis, :].T\n",
    "\n",
    "print(v1, v1.shape); print()\n",
    "print(v2, v2.shape); print()\n",
    "print(v3, v3.shape); print()\n",
    "\n",
    "print(\"(v1 - v2) = \\n\", v1 - v2); print()\n",
    "print(\"(v1 - v3) = \\n\", v1 - v3); print()\n",
    "\n",
    "# To obtain the result that is \"natural\" to us, we need to adjust dimensions using np.newaxis"
   ]
  }
 ],
 "metadata": {
  "kernelspec": {
   "display_name": "Python 3",
   "language": "python",
   "name": "python3"
  },
  "language_info": {
   "codemirror_mode": {
    "name": "ipython",
    "version": 3
   },
   "file_extension": ".py",
   "mimetype": "text/x-python",
   "name": "python",
   "nbconvert_exporter": "python",
   "pygments_lexer": "ipython3",
   "version": "3.6.3"
  }
 },
 "nbformat": 4,
 "nbformat_minor": 2
}

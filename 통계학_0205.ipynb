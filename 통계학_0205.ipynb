{
 "cells": [
  {
   "cell_type": "code",
   "execution_count": 2,
   "metadata": {
    "collapsed": true
   },
   "outputs": [],
   "source": [
    "import numpy as np\n",
    "from pandas import Series, DataFrame\n",
    "import pandas as pd\n",
    "import matplotlib.pyplot as plt\n",
    "from sklearn import linear_model\n",
    "from sklearn.decomposition import PCA"
   ]
  },
  {
   "cell_type": "code",
   "execution_count": 4,
   "metadata": {},
   "outputs": [],
   "source": [
    "df_sample = pd.read_csv('C://Users//snuist//Data//Lending_Club_Data_Subsample.csv')\n",
    "\n",
    "df_X = df_sample.iloc[:, 1:26].as_matrix()\n",
    "df_y = df_sample[['bad']].as_matrix()\n",
    "\n",
    "df_X = np.delete(df_X, [4, 6, 8, 11], axis = 1)"
   ]
  },
  {
   "cell_type": "code",
   "execution_count": 5,
   "metadata": {
    "collapsed": true
   },
   "outputs": [],
   "source": [
    "df_X = (df_X - np.mean(df_X, axis = 0))/np.std(df_X, axis =0)"
   ]
  },
  {
   "cell_type": "code",
   "execution_count": 6,
   "metadata": {},
   "outputs": [
    {
     "data": {
      "text/plain": [
       "array([ 1.,  1.,  1.,  1.,  1.,  1.,  1.,  1.,  1.,  1.,  1.,  1.,  1.,\n",
       "        1.,  1.,  1.,  1.,  1.,  1.,  1.,  1.])"
      ]
     },
     "execution_count": 6,
     "metadata": {},
     "output_type": "execute_result"
    }
   ],
   "source": [
    "np.std(df_X, axis = 0)"
   ]
  },
  {
   "cell_type": "code",
   "execution_count": 8,
   "metadata": {},
   "outputs": [
    {
     "data": {
      "text/plain": [
       "(1000, 21)"
      ]
     },
     "execution_count": 8,
     "metadata": {},
     "output_type": "execute_result"
    }
   ],
   "source": [
    "n, p = df_X.shape\n",
    "n, p"
   ]
  },
  {
   "cell_type": "code",
   "execution_count": 9,
   "metadata": {},
   "outputs": [
    {
     "data": {
      "text/plain": [
       "PCA(copy=True, iterated_power='auto', n_components=21, random_state=None,\n",
       "  svd_solver='auto', tol=0.0, whiten=False)"
      ]
     },
     "execution_count": 9,
     "metadata": {},
     "output_type": "execute_result"
    }
   ],
   "source": [
    "pca_mdl = PCA(n_components = p)\n",
    "pca_mdl.fit(df_X)"
   ]
  },
  {
   "cell_type": "code",
   "execution_count": 10,
   "metadata": {
    "collapsed": true
   },
   "outputs": [],
   "source": [
    "X_trans = pca_mdl.fit_transform(df_X)"
   ]
  },
  {
   "cell_type": "code",
   "execution_count": 11,
   "metadata": {},
   "outputs": [
    {
     "data": {
      "text/plain": [
       "(1000, 21)"
      ]
     },
     "execution_count": 11,
     "metadata": {},
     "output_type": "execute_result"
    }
   ],
   "source": [
    "X_trans.shape"
   ]
  },
  {
   "cell_type": "code",
   "execution_count": 14,
   "metadata": {},
   "outputs": [
    {
     "data": {
      "text/plain": [
       "array([ 2.95491633,  1.91979564,  1.85231016,  1.72577899,  1.40636118,\n",
       "        1.17993947,  1.13799006,  1.09952324,  1.03612415,  1.01970108,\n",
       "        0.87291041,  0.85899326,  0.8074313 ,  0.77220481,  0.75519266,\n",
       "        0.53547031,  0.34637506,  0.33423568,  0.28599031,  0.10999145,\n",
       "        0.00978549])"
      ]
     },
     "execution_count": 14,
     "metadata": {},
     "output_type": "execute_result"
    }
   ],
   "source": [
    "pca_mdl.explained_variance_"
   ]
  },
  {
   "cell_type": "code",
   "execution_count": 15,
   "metadata": {},
   "outputs": [
    {
     "data": {
      "text/plain": [
       "array([ 0.14056959,  0.09132742,  0.08811704,  0.08209777,  0.06690261,\n",
       "        0.05613141,  0.05413581,  0.05230589,  0.04928991,  0.04850864,\n",
       "        0.0415256 ,  0.04086354,  0.03841066,  0.03673489,  0.03592559,\n",
       "        0.02547309,  0.01647756,  0.01590007,  0.01360497,  0.00523245,\n",
       "        0.00046551])"
      ]
     },
     "execution_count": 15,
     "metadata": {},
     "output_type": "execute_result"
    }
   ],
   "source": [
    "pca_mdl.explained_variance_ratio_"
   ]
  },
  {
   "cell_type": "code",
   "execution_count": 18,
   "metadata": {},
   "outputs": [
    {
     "data": {
      "image/png": "[encoded data removed]",
      "text/plain": [
       "<matplotlib.figure.Figure at 0x1f6ff2f8ba8>"
      ]
     },
     "metadata": {},
     "output_type": "display_data"
    }
   ],
   "source": [
    "y_cor = pca_mdl.explained_variance_ratio_\n",
    "X_cor = np.arange(p)\n",
    "\n",
    "plt.plot(X_cor, y_cor, '--bo')\n",
    "plt.xlabel('Number of feature')\n",
    "plt.ylabel('Explained Var. Ratio')\n",
    "plt.show()"
   ]
  },
  {
   "cell_type": "code",
   "execution_count": 21,
   "metadata": {},
   "outputs": [
    {
     "data": {
      "image/png": "[encoded data removed]",
      "text/plain": [
       "<matplotlib.figure.Figure at 0x1f6ffdce780>"
      ]
     },
     "metadata": {},
     "output_type": "display_data"
    }
   ],
   "source": [
    "y_cumsum = np.cumsum(y_cor)\n",
    "\n",
    "plt.plot(X_cor, y_cumsum, '--bo')\n",
    "plt.xlabel('Number of feature')\n",
    "plt.ylabel('Explained Var. Ratio (cumulative)')\n",
    "plt.show()"
   ]
  },
  {
   "cell_type": "code",
   "execution_count": 24,
   "metadata": {},
   "outputs": [
    {
     "name": "stderr",
     "output_type": "stream",
     "text": [
      "C:\\Users\\snuist\\Anaconda3\\lib\\site-packages\\statsmodels\\compat\\pandas.py:56: FutureWarning: The pandas.core.datetools module is deprecated and will be removed in a future version. Please use the pandas.tseries module instead.\n",
      "  from pandas.core import datetools\n"
     ]
    },
    {
     "name": "stdout",
     "output_type": "stream",
     "text": [
      "                            OLS Regression Results                            \n",
      "==============================================================================\n",
      "Dep. Variable:                      y   R-squared:                       0.034\n",
      "Model:                            OLS   Adj. R-squared:                  0.013\n",
      "Method:                 Least Squares   F-statistic:                     1.630\n",
      "Date:                Mon, 05 Feb 2018   Prob (F-statistic):             0.0365\n",
      "Time:                        17:40:52   Log-Likelihood:                -389.28\n",
      "No. Observations:                1000   AIC:                             820.6\n",
      "Df Residuals:                     979   BIC:                             923.6\n",
      "Df Model:                          21                                         \n",
      "Covariance Type:            nonrobust                                         \n",
      "==============================================================================\n",
      "                 coef    std err          t      P>|t|      [0.025      0.975]\n",
      "------------------------------------------------------------------------------\n",
      "x1            -0.0272      0.015     -1.769      0.077      -0.057       0.003\n",
      "x2            -0.0077      0.013     -0.595      0.552      -0.033       0.018\n",
      "x3            -0.0229      0.014     -1.651      0.099      -0.050       0.004\n",
      "x4             0.0245      0.012      2.115      0.035       0.002       0.047\n",
      "x5            -0.0112      0.015     -0.760      0.447      -0.040       0.018\n",
      "x6            -0.0117      0.015     -0.777      0.437      -0.041       0.018\n",
      "x7             0.0143      0.016      0.917      0.359      -0.016       0.045\n",
      "x8             0.0068      0.012      0.583      0.560      -0.016       0.030\n",
      "x9            -0.0019      0.081     -0.023      0.982      -0.162       0.158\n",
      "x10            0.0042      0.082      0.051      0.959      -0.156       0.165\n",
      "x11           -0.0171      0.013     -1.317      0.188      -0.043       0.008\n",
      "x12            0.0238      0.013      1.807      0.071      -0.002       0.050\n",
      "x13           -0.0016      0.012     -0.133      0.894      -0.025       0.021\n",
      "x14            0.0271      0.012      2.291      0.022       0.004       0.050\n",
      "x15            0.0043      0.016      0.261      0.794      -0.028       0.036\n",
      "x16           -0.0187      0.025     -0.747      0.455      -0.068       0.030\n",
      "x17           -0.0053      0.017     -0.320      0.749      -0.038       0.027\n",
      "x18            0.0329      0.025      1.313      0.190      -0.016       0.082\n",
      "x19           -0.0107      0.012     -0.907      0.365      -0.034       0.013\n",
      "x20            0.0100      0.012      0.852      0.394      -0.013       0.033\n",
      "x21            0.0049      0.012      0.411      0.681      -0.018       0.028\n",
      "x22            0.0022      0.003      0.677      0.499      -0.004       0.009\n",
      "==============================================================================\n",
      "Omnibus:                      383.280   Durbin-Watson:                   1.722\n",
      "Prob(Omnibus):                  0.000   Jarque-Bera (JB):             1015.146\n",
      "Skew:                           2.087   Prob(JB):                    3.66e-221\n",
      "Kurtosis:                       5.636   Cond. No.                     5.79e+15\n",
      "==============================================================================\n",
      "\n",
      "Warnings:\n",
      "[1] Standard Errors assume that the covariance matrix of the errors is correctly specified.\n",
      "[2] The smallest eigenvalue is 1.76e-28. This might indicate that there are\n",
      "strong multicollinearity problems or that the design matrix is singular.\n"
     ]
    }
   ],
   "source": [
    "import statsmodels.api as sm\n",
    "\n",
    "X_all = np.concatenate((df_X, X_trans[:, 0:1]), axis = 1)\n",
    "\n",
    "model01 = sm.OLS(df_y, X_all)\n",
    "result01 = model01.fit()\n",
    "print(result01.summary())"
   ]
  },
  {
   "cell_type": "code",
   "execution_count": null,
   "metadata": {
    "collapsed": true
   },
   "outputs": [],
   "source": []
  }
 ],
 "metadata": {
  "kernelspec": {
   "display_name": "Python 3",
   "language": "python",
   "name": "python3"
  },
  "language_info": {
   "codemirror_mode": {
    "name": "ipython",
    "version": 3
   },
   "file_extension": ".py",
   "mimetype": "text/x-python",
   "name": "python",
   "nbconvert_exporter": "python",
   "pygments_lexer": "ipython3",
   "version": "3.6.3"
  }
 },
 "nbformat": 4,
 "nbformat_minor": 2
}

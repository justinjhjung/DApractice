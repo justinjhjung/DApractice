{
 "cells": [
  {
   "cell_type": "code",
   "execution_count": 5,
   "metadata": {
    "collapsed": true
   },
   "outputs": [],
   "source": [
    "import numpy as np\n",
    "from pandas import Series, DataFrame\n",
    "import pandas as pd\n",
    "import matplotlib.pyplot as plt\n",
    "from sklearn import linear_model"
   ]
  },
  {
   "cell_type": "code",
   "execution_count": 7,
   "metadata": {},
   "outputs": [],
   "source": [
    "df_sample = pd.read_csv('C://Users//snuist//Data//Lending_Club_Data_Subsample.csv', engine = 'python')"
   ]
  },
  {
   "cell_type": "code",
   "execution_count": 9,
   "metadata": {},
   "outputs": [],
   "source": [
    "df_X = df_sample.iloc[:, 13:19].as_matrix()\n",
    "df_y = df_sample[['bad']].as_matrix()"
   ]
  },
  {
   "cell_type": "code",
   "execution_count": 10,
   "metadata": {},
   "outputs": [
    {
     "data": {
      "text/plain": [
       "(1000, 6)"
      ]
     },
     "execution_count": 10,
     "metadata": {},
     "output_type": "execute_result"
    }
   ],
   "source": [
    "df_X.shape"
   ]
  },
  {
   "cell_type": "code",
   "execution_count": 11,
   "metadata": {},
   "outputs": [
    {
     "data": {
      "text/plain": [
       "(1000, 1)"
      ]
     },
     "execution_count": 11,
     "metadata": {},
     "output_type": "execute_result"
    }
   ],
   "source": [
    "df_y.shape"
   ]
  },
  {
   "cell_type": "code",
   "execution_count": 12,
   "metadata": {},
   "outputs": [
    {
     "data": {
      "text/plain": [
       "Index(['loan_amnt', 'installment', 'annual_inc', 'dti', 'delinq_2yrs',\n",
       "       'inq_last_6mths'],\n",
       "      dtype='object')"
      ]
     },
     "execution_count": 12,
     "metadata": {},
     "output_type": "execute_result"
    }
   ],
   "source": [
    "# 변수가 뭐였는지 까먹지 않도록 하는 것\n",
    "X_varnames = df_sample.columns[13:19]\n",
    "X_varnames"
   ]
  },
  {
   "cell_type": "code",
   "execution_count": 17,
   "metadata": {},
   "outputs": [
    {
     "data": {
      "text/plain": [
       "LinearRegression(copy_X=True, fit_intercept=True, n_jobs=1, normalize=False)"
      ]
     },
     "execution_count": 17,
     "metadata": {},
     "output_type": "execute_result"
    }
   ],
   "source": [
    "# OLS 로 fitting 시킨 것\n",
    "mdl_OLS = linear_model.LinearRegression()\n",
    "mdl_OLS.fit(df_X, df_y)"
   ]
  },
  {
   "cell_type": "code",
   "execution_count": 18,
   "metadata": {},
   "outputs": [
    {
     "data": {
      "text/plain": [
       "array([[  5.43612722e-06,  -1.39347809e-04,  -2.74818631e-07,\n",
       "          3.03875895e-03,  -1.00213563e-02,   2.48954400e-02]])"
      ]
     },
     "execution_count": 18,
     "metadata": {},
     "output_type": "execute_result"
    }
   ],
   "source": [
    "mdl_OLS.coef_"
   ]
  },
  {
   "cell_type": "code",
   "execution_count": 20,
   "metadata": {},
   "outputs": [
    {
     "data": {
      "text/plain": [
       "array([[  5.43612722e-06,   1.39347809e-04,   2.74818631e-07,\n",
       "          3.03875895e-03,   1.00213563e-02,   2.48954400e-02]])"
      ]
     },
     "execution_count": 20,
     "metadata": {},
     "output_type": "execute_result"
    }
   ],
   "source": [
    "# Adaptive Lasso에서는 설명력이 약한 변수들에 가중을 크게 주어 페날티를 크게 주려고 한다.\n",
    "# 각 베타를 OLS를 통해 추정된 절대값 틸다베타로 나누어준 것을 Bj라고 할 때, \n",
    "# 그것이 (Yi - {X}b)^2 이런 모양이 되기 위해서는 X는 틸다베타와 기존 Xij를 곱해줘야 한다. \n",
    "# 여기의 weights는 기존 Xij에 곱해지는 절대값 틸다\n",
    "weights = np.abs(mdl_OLS.coef_)\n",
    "weights"
   ]
  },
  {
   "cell_type": "code",
   "execution_count": 25,
   "metadata": {},
   "outputs": [
    {
     "data": {
      "text/plain": [
       "array([  6.98491931e-13,  -1.90993887e-14,   2.32830644e-12,\n",
       "        -2.84217094e-16,   6.21724894e-18,   8.17124146e-17])"
      ]
     },
     "execution_count": 25,
     "metadata": {},
     "output_type": "execute_result"
    }
   ],
   "source": [
    "# intercept를 없애고 y-beta*x꼴로 나타내어 계산의 편의를 도모하기 위해 평균을 빼서 중심을 0으로 만들어버린다.\n",
    "df_X_0 = df_X - np.mean(df_X, axis = 0)\n",
    "np.mean(df_X_0, axis = 0)"
   ]
  },
  {
   "cell_type": "code",
   "execution_count": 26,
   "metadata": {
    "collapsed": true
   },
   "outputs": [],
   "source": [
    "# x에서 0으로 맞춰주는 김에 여기도 중심을 0으로 맞춰주기\n",
    "df_y_0 = df_y - np.mean(df_y, axis = 0)"
   ]
  },
  {
   "cell_type": "code",
   "execution_count": 32,
   "metadata": {},
   "outputs": [
    {
     "name": "stdout",
     "output_type": "stream",
     "text": [
      "[  3.49164576e-04   0.00000000e+00  -4.24433174e-01   8.90530620e-01\n",
      "  -0.00000000e+00   8.70726902e-01]\n",
      "[[  1.89810306e-09   0.00000000e+00  -1.16642144e-07   2.70610790e-03\n",
      "   -0.00000000e+00   2.16771293e-02]]\n"
     ]
    }
   ],
   "source": [
    "# Weight가 곱해진 변형된 Xi\n",
    "X_w = df_X_0 * weights\n",
    "alpha = 10**(-4)\n",
    "\n",
    "#Intercept없는 라쏘모델을 불러올 것임\n",
    "clf = linear_model.Lasso(alpha = alpha, fit_intercept = False)\n",
    "clf.fit(X_w, df_y_0)\n",
    "\n",
    "print(clf.coef_)\n",
    "\n",
    "# 치환해서 풀어 Bj를 구했으니까 원래 구하고자 했던 베타를 구하기 위해서 절대값 틸다베타를 곱한다. \n",
    "final_coef = clf.coef_ * weights\n",
    "print(final_coef)"
   ]
  },
  {
   "cell_type": "code",
   "execution_count": 28,
   "metadata": {},
   "outputs": [
    {
     "data": {
      "text/plain": [
       "(1, 6)"
      ]
     },
     "execution_count": 28,
     "metadata": {},
     "output_type": "execute_result"
    }
   ],
   "source": [
    "weights.shape"
   ]
  },
  {
   "cell_type": "code",
   "execution_count": 30,
   "metadata": {},
   "outputs": [
    {
     "data": {
      "text/plain": [
       "(1000, 6)"
      ]
     },
     "execution_count": 30,
     "metadata": {},
     "output_type": "execute_result"
    }
   ],
   "source": [
    "df_X_0.shape"
   ]
  },
  {
   "cell_type": "code",
   "execution_count": 33,
   "metadata": {},
   "outputs": [
    {
     "data": {
      "text/plain": [
       "array([  1.35580201e-06,  -2.21371458e-05,  -2.76536184e-07,\n",
       "         2.29246381e-03,  -0.00000000e+00,   0.00000000e+00])"
      ]
     },
     "execution_count": 33,
     "metadata": {},
     "output_type": "execute_result"
    }
   ],
   "source": [
    "# Elastic net 불러오기 (l1_ratio와 l2_ratio의 비율을 정함으로써 penalty function을 다듬는 것)\n",
    "mdl_ela = linear_model.ElasticNet(alpha= 0.1, l1_ratio = 0.5)\n",
    "mdl_ela.fit(df_X, df_y)\n",
    "mdl_ela.coef_"
   ]
  },
  {
   "cell_type": "code",
   "execution_count": 34,
   "metadata": {},
   "outputs": [
    {
     "data": {
      "text/plain": [
       "array([  7.25749782e-07,  -0.00000000e+00,  -3.09882849e-07,\n",
       "         1.37272631e-03,  -0.00000000e+00,   0.00000000e+00])"
      ]
     },
     "execution_count": 34,
     "metadata": {},
     "output_type": "execute_result"
    }
   ],
   "source": [
    "# 여기서 alpha라고 되어있는 것은 람다이다.\n",
    "# 1l_ratio를 크게 하는 것은 kink되어 있는 l1 norm과 더 유사하게 만든다는 것이다. \n",
    "# 즉, 많은 것이 0값을 띄며 탈락될 것이다. 실제로 위의 0.5인 경우보다 더 많은 변수가 탈락되었다. \n",
    "mdl_ela = linear_model.ElasticNet(alpha= 0.1, l1_ratio = 0.99)\n",
    "mdl_ela.fit(df_X, df_y)\n",
    "mdl_ela.coef_"
   ]
  },
  {
   "cell_type": "code",
   "execution_count": null,
   "metadata": {
    "collapsed": true
   },
   "outputs": [],
   "source": []
  }
 ],
 "metadata": {
  "kernelspec": {
   "display_name": "Python 3",
   "language": "python",
   "name": "python3"
  },
  "language_info": {
   "codemirror_mode": {
    "name": "ipython",
    "version": 3
   },
   "file_extension": ".py",
   "mimetype": "text/x-python",
   "name": "python",
   "nbconvert_exporter": "python",
   "pygments_lexer": "ipython3",
   "version": "3.6.3"
  }
 },
 "nbformat": 4,
 "nbformat_minor": 2
}

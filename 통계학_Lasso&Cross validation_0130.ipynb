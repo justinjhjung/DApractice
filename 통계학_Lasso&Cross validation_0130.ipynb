{
 "cells": [
  {
   "cell_type": "code",
   "execution_count": 1,
   "metadata": {
    "collapsed": true
   },
   "outputs": [],
   "source": [
    "import numpy as np\n",
    "from pandas import Series, DataFrame\n",
    "import pandas as pd\n",
    "import matplotlib.pyplot as plt\n",
    "from sklearn import linear_model"
   ]
  },
  {
   "cell_type": "code",
   "execution_count": 2,
   "metadata": {
    "collapsed": true
   },
   "outputs": [],
   "source": [
    "df_sample = pd.read_csv('C://Users//snuist//Data//Lending_Club_Data_Subsample.csv', engine = 'python')"
   ]
  },
  {
   "cell_type": "code",
   "execution_count": 3,
   "metadata": {
    "collapsed": true
   },
   "outputs": [],
   "source": [
    "df_X = df_sample.iloc[:,1:26].as_matrix()\n",
    "df_y = df_sample[['bad']].as_matrix()"
   ]
  },
  {
   "cell_type": "code",
   "execution_count": 7,
   "metadata": {
    "collapsed": true
   },
   "outputs": [],
   "source": [
    "# axis = 0 -> Row 기준으로 잘라라\n",
    "# 800번째 위로는 train, 밑으로는 test set으로 만들자\n",
    "[X_train, X_test] = np.split(df_X, [800], axis=0)"
   ]
  },
  {
   "cell_type": "code",
   "execution_count": 8,
   "metadata": {},
   "outputs": [
    {
     "data": {
      "text/plain": [
       "(800, 25)"
      ]
     },
     "execution_count": 8,
     "metadata": {},
     "output_type": "execute_result"
    }
   ],
   "source": [
    "X_train.shape"
   ]
  },
  {
   "cell_type": "code",
   "execution_count": 9,
   "metadata": {},
   "outputs": [
    {
     "data": {
      "text/plain": [
       "(200, 25)"
      ]
     },
     "execution_count": 9,
     "metadata": {},
     "output_type": "execute_result"
    }
   ],
   "source": [
    "X_test.shape"
   ]
  },
  {
   "cell_type": "code",
   "execution_count": 10,
   "metadata": {
    "collapsed": true
   },
   "outputs": [],
   "source": [
    "[y_train, y_test] = np.split(df_y, [800], axis=0)"
   ]
  },
  {
   "cell_type": "code",
   "execution_count": 13,
   "metadata": {},
   "outputs": [
    {
     "data": {
      "text/plain": [
       "array([[ -1.74463383e-01,  -1.38167873e-01,  -2.10968788e-01,\n",
       "          6.49442023e-01,  -1.25841973e-01,   3.69306365e-03,\n",
       "         -3.69306365e-03,  -3.76116823e-02,   3.16016196e-03,\n",
       "          3.44515204e-02,   1.53022693e-02,  -1.53022693e-02,\n",
       "          9.74744201e-06,  -2.83940208e-04,  -2.56287362e-07,\n",
       "          1.69647658e-03,  -3.22204404e-03,   2.20679766e-02,\n",
       "          1.04964672e-03,  -1.29939896e-01,  -9.12059370e-05,\n",
       "          1.94849379e-01,  -1.85217912e-03,   7.10182468e-11,\n",
       "          2.27926607e-03]])"
      ]
     },
     "execution_count": 13,
     "metadata": {},
     "output_type": "execute_result"
    }
   ],
   "source": [
    "# 다중공선성을 배제하기 위하여 intercept제거\n",
    "mdl_OLS = linear_model.LinearRegression(fit_intercept = 'false')\n",
    "mdl_OLS.fit(X_train, y_train)\n",
    "mdl_OLS.coef_"
   ]
  },
  {
   "cell_type": "code",
   "execution_count": 14,
   "metadata": {},
   "outputs": [
    {
     "data": {
      "text/plain": [
       "array([ -3.03089095e-02,   0.00000000e+00,  -6.25167863e-02,\n",
       "         0.00000000e+00,   7.57674945e-03,   0.00000000e+00,\n",
       "        -0.00000000e+00,  -3.61014346e-02,   0.00000000e+00,\n",
       "         2.64630586e-02,   2.03105924e-02,  -2.32934283e-17,\n",
       "         8.42155008e-06,  -2.52103000e-04,  -2.24444613e-07,\n",
       "         1.77500964e-03,  -3.00844512e-03,   2.39599998e-02,\n",
       "         6.68555079e-04,  -1.74744206e-02,   1.44426649e-04,\n",
       "         5.62418902e-02,  -1.78697924e-03,   7.09970706e-11,\n",
       "         2.71775660e-03])"
      ]
     },
     "execution_count": 14,
     "metadata": {},
     "output_type": "execute_result"
    }
   ],
   "source": [
    "mdl_Lasso = linear_model.Lasso(fit_intercept = 'false', alpha = 10**(-3))\n",
    "mdl_Lasso.fit(X_train, y_train)\n",
    "mdl_Lasso.coef_"
   ]
  },
  {
   "cell_type": "code",
   "execution_count": 19,
   "metadata": {},
   "outputs": [
    {
     "data": {
      "text/plain": [
       "0.10682318582011309"
      ]
     },
     "execution_count": 19,
     "metadata": {},
     "output_type": "execute_result"
    }
   ],
   "source": [
    "y_train_OLS = mdl_OLS.predict(X_train)\n",
    "np.mean((y_train - y_train_OLS)**2) # in-sample fit of OLS"
   ]
  },
  {
   "cell_type": "code",
   "execution_count": 26,
   "metadata": {},
   "outputs": [
    {
     "data": {
      "text/plain": [
       "0.10787275231393881"
      ]
     },
     "execution_count": 26,
     "metadata": {},
     "output_type": "execute_result"
    }
   ],
   "source": [
    "y_train_Lasso = mdl_Lasso.predict(X_train)[:,np.newaxis]\n",
    "np.mean((y_train - y_train_Lasso)**2)"
   ]
  },
  {
   "cell_type": "markdown",
   "metadata": {},
   "source": [
    "## 왜 [:,np.newaxis]를 도입할까?"
   ]
  },
  {
   "cell_type": "code",
   "execution_count": 30,
   "metadata": {},
   "outputs": [
    {
     "data": {
      "text/plain": [
       "(800,)"
      ]
     },
     "execution_count": 30,
     "metadata": {},
     "output_type": "execute_result"
    }
   ],
   "source": [
    "mdl_Lasso.predict(X_train).shape"
   ]
  },
  {
   "cell_type": "code",
   "execution_count": 31,
   "metadata": {},
   "outputs": [
    {
     "data": {
      "text/plain": [
       "(800, 1)"
      ]
     },
     "execution_count": 31,
     "metadata": {},
     "output_type": "execute_result"
    }
   ],
   "source": [
    "mdl_Lasso.predict(X_train)[:,np.newaxis].shape\n",
    "# 이렇게 해야 (800,1)로 되어 곱할 수 있다."
   ]
  },
  {
   "cell_type": "code",
   "execution_count": 22,
   "metadata": {},
   "outputs": [
    {
     "data": {
      "text/plain": [
       "0.12545107795979948"
      ]
     },
     "execution_count": 22,
     "metadata": {},
     "output_type": "execute_result"
    }
   ],
   "source": [
    "y_test_OLS = mdl_OLS.predict(X_test)\n",
    "np.mean((y_test - y_test_OLS)**2)"
   ]
  },
  {
   "cell_type": "code",
   "execution_count": 27,
   "metadata": {},
   "outputs": [
    {
     "data": {
      "text/plain": [
       "0.12446861491834732"
      ]
     },
     "execution_count": 27,
     "metadata": {},
     "output_type": "execute_result"
    }
   ],
   "source": [
    "# Test set에서는 라쏘가 나음(overfitting막아주기)\n",
    "\n",
    "y_test_Lasso = mdl_Lasso.predict(X_test)[:,np.newaxis]\n",
    "np.mean((y_test - y_test_Lasso)**2)"
   ]
  },
  {
   "cell_type": "markdown",
   "metadata": {},
   "source": [
    "## cross validation으로 람다를 정하기"
   ]
  },
  {
   "cell_type": "code",
   "execution_count": 42,
   "metadata": {},
   "outputs": [
    {
     "data": {
      "text/plain": [
       "0.12800624999999999"
      ]
     },
     "execution_count": 42,
     "metadata": {},
     "output_type": "execute_result"
    }
   ],
   "source": [
    "# cv가 나눈 덩어리의 수\n",
    "mdl_LassoCV = linear_model.LassoCV(cv = 4)\n",
    "mdl_LassoCV.fit(X_train, y_train.ravel())\n",
    "\n",
    "y_test_LassoCV = mdl_LassoCV.predict(X_test)[:,np.newaxis]\n",
    "np.mean((y_test - y_test_LassoCV)**2)"
   ]
  },
  {
   "cell_type": "code",
   "execution_count": 43,
   "metadata": {},
   "outputs": [
    {
     "data": {
      "text/plain": [
       "1675485.4506218736"
      ]
     },
     "execution_count": 43,
     "metadata": {},
     "output_type": "execute_result"
    }
   ],
   "source": [
    "mdl_LassoCV.alpha_"
   ]
  },
  {
   "cell_type": "code",
   "execution_count": 44,
   "metadata": {},
   "outputs": [
    {
     "data": {
      "text/plain": [
       "array([ -0.00000000e+00,   0.00000000e+00,  -0.00000000e+00,\n",
       "         0.00000000e+00,   0.00000000e+00,  -0.00000000e+00,\n",
       "         0.00000000e+00,  -0.00000000e+00,   0.00000000e+00,\n",
       "         0.00000000e+00,   0.00000000e+00,  -0.00000000e+00,\n",
       "         0.00000000e+00,  -0.00000000e+00,  -0.00000000e+00,\n",
       "         0.00000000e+00,  -0.00000000e+00,   0.00000000e+00,\n",
       "         0.00000000e+00,   0.00000000e+00,   0.00000000e+00,\n",
       "         0.00000000e+00,  -0.00000000e+00,   6.43550202e-26,\n",
       "         0.00000000e+00])"
      ]
     },
     "execution_count": 44,
     "metadata": {},
     "output_type": "execute_result"
    }
   ],
   "source": [
    "mdl_LassoCV.coef_"
   ]
  },
  {
   "cell_type": "code",
   "execution_count": null,
   "metadata": {
    "collapsed": true
   },
   "outputs": [],
   "source": []
  }
 ],
 "metadata": {
  "kernelspec": {
   "display_name": "Python 3",
   "language": "python",
   "name": "python3"
  },
  "language_info": {
   "codemirror_mode": {
    "name": "ipython",
    "version": 3
   },
   "file_extension": ".py",
   "mimetype": "text/x-python",
   "name": "python",
   "nbconvert_exporter": "python",
   "pygments_lexer": "ipython3",
   "version": "3.6.3"
  }
 },
 "nbformat": 4,
 "nbformat_minor": 2
}

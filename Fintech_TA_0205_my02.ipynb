{
 "cells": [
  {
   "cell_type": "code",
   "execution_count": null,
   "metadata": {
    "collapsed": true
   },
   "outputs": [],
   "source": [
    "import numpy as np\n",
    "from pandas import Series, DataFrame\n",
    "import pandas as pd\n",
    "\n",
    "from sklearn.decomposition import PCA"
   ]
  },
  {
   "cell_type": "code",
   "execution_count": null,
   "metadata": {
    "collapsed": true
   },
   "outputs": [],
   "source": [
    "df_sample = pd.read_csv('Lending_Club_Data_Subsample.csv')\n",
    "\n",
    "df_X = df_sample.iloc[:, 1:26].as_matrix()\n",
    "df_y = df_sample[['bad']].as_matrix()\n",
    "\n",
    "df_X = np.delete(df_X, [4, 6, 8, 11], axis = 1)\n",
    "\n",
    "df_X = (df_X - np.mean(df_X, axis = 0))/np.std(df_X, axis = 0)\n",
    "\n",
    "#[X_train, X_test] = np.split(df_X, [800], axis = 0)\n",
    "#[y_train, y_test] = np.split(df_y, [800], axis = 0)"
   ]
  },
  {
   "cell_type": "code",
   "execution_count": null,
   "metadata": {
    "collapsed": true
   },
   "outputs": [],
   "source": [
    "np.mean(df_X, axis = 0)"
   ]
  },
  {
   "cell_type": "code",
   "execution_count": null,
   "metadata": {
    "collapsed": true
   },
   "outputs": [],
   "source": [
    "np.std(df_X, axis = 0)"
   ]
  },
  {
   "cell_type": "code",
   "execution_count": null,
   "metadata": {
    "collapsed": true
   },
   "outputs": [],
   "source": [
    "n, p = df_X.shape\n",
    "# n is sample size, p is the numver of covariates"
   ]
  },
  {
   "cell_type": "code",
   "execution_count": null,
   "metadata": {
    "collapsed": true
   },
   "outputs": [],
   "source": [
    "pca_mdl = PCA(n_components = p)\n",
    "pca_mdl.fit(df_X)"
   ]
  },
  {
   "cell_type": "code",
   "execution_count": null,
   "metadata": {
    "collapsed": true
   },
   "outputs": [],
   "source": [
    "X_trans = pca_mdl.fit_transform(df_X)\n",
    "X_trans.shape"
   ]
  },
  {
   "cell_type": "code",
   "execution_count": null,
   "metadata": {
    "collapsed": true
   },
   "outputs": [],
   "source": [
    "pca_mdl.explained_variance_"
   ]
  },
  {
   "cell_type": "code",
   "execution_count": null,
   "metadata": {
    "collapsed": true
   },
   "outputs": [],
   "source": [
    "pca_mdl.explained_variance_ratio_"
   ]
  },
  {
   "cell_type": "code",
   "execution_count": null,
   "metadata": {
    "collapsed": true,
    "scrolled": true
   },
   "outputs": [],
   "source": [
    "y_cor = pca_mdl.explained_variance_ratio_\n",
    "x_cor = np.arange(p)\n",
    "\n",
    "plt.plot(x_cor, y_cor, '--bo')\n",
    "plt.xlabel('Number of features')\n",
    "plt.ylabel('Explained Var. Ratio')\n",
    "plt.show()"
   ]
  },
  {
   "cell_type": "code",
   "execution_count": null,
   "metadata": {
    "collapsed": true
   },
   "outputs": [],
   "source": [
    "y_cumsum = np.cumsum(y_cor)\n",
    "\n",
    "plt.plot(x_cor, y_cumsum, '--ro')\n",
    "plt.xlabel('Number of features')\n",
    "plt.ylabel('Explained Var. Ratio (cumulative)')\n",
    "plt.show()"
   ]
  },
  {
   "cell_type": "code",
   "execution_count": null,
   "metadata": {
    "collapsed": true
   },
   "outputs": [],
   "source": [
    "import statsmodels.api as sm\n",
    "\n",
    "X_all = np.concatenate((df_X, X_trans[:, 0:1]), axis = 1)\n",
    "\n",
    "model01 = sm.OLS(df_y, X_all)\n",
    "result01 = model01.fit()\n",
    "print(result01.summary())"
   ]
  },
  {
   "cell_type": "code",
   "execution_count": null,
   "metadata": {
    "collapsed": true
   },
   "outputs": [],
   "source": []
  }
 ],
 "metadata": {
  "kernelspec": {
   "display_name": "Python 3",
   "language": "python",
   "name": "python3"
  },
  "language_info": {
   "codemirror_mode": {
    "name": "ipython",
    "version": 3
   },
   "file_extension": ".py",
   "mimetype": "text/x-python",
   "name": "python",
   "nbconvert_exporter": "python",
   "pygments_lexer": "ipython3",
   "version": "3.6.3"
  }
 },
 "nbformat": 4,
 "nbformat_minor": 2
}
